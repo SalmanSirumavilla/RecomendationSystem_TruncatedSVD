{
 "cells": [
  {
   "cell_type": "markdown",
   "metadata": {
    "id": "YeM0ZBWUVtXR"
   },
   "source": [
    "# <font color='red'>SGD Algorithm to predict movie ratings</font>"
   ]
  },
  {
   "cell_type": "markdown",
   "metadata": {
    "id": "M2vyJqSlmmjM"
   },
   "source": [
    "**There will be some functions that start with the word \"grader\" ex: grader_matrix(), grader_mean(), grader_dim() etc, you should not change those function definition.<br><br>Every Grader function has to return True.**"
   ]
  },
  {
   "cell_type": "markdown",
   "metadata": {
    "id": "AL6njTf8WBO0"
   },
   "source": [
    "<pre>\n",
    "1. Download the data from <a href='https://drive.google.com/open?id=1-1z7iDB52cB6_JpO7Dqa-eOYSs-mivpq'> here </a>\n",
    "2. The data will be of this format, each data point is represented as a triplet of user_id, movie_id and rating \n",
    "<table>\n",
    "<tr><th>user_id</th><th>movie_id</th><th>rating</th></tr>\n",
    "<tr><td>77</td><td>236</td><td>3</td></tr>\n",
    "<tr><td>471</td><td>208</td><td>5</td></tr>\n",
    "<tr><td>641</td><td>401</td><td>4</td></tr>\n",
    "<tr><td>31</td><td>298</td><td>4</td></tr>\n",
    "<tr><td>58</td><td>504</td><td>5</td></tr>\n",
    "<tr><td>235</td><td>727</td><td>5</td></tr>\n",
    "</table>"
   ]
  },
  {
   "cell_type": "markdown",
   "metadata": {
    "id": "73dhFsT0WSSB"
   },
   "source": [
    "## <font color='red'>Task 1</font>"
   ]
  },
  {
   "cell_type": "markdown",
   "metadata": {
    "id": "HY0frS6EWaEV"
   },
   "source": [
    "<font color='red'><b>Predict the rating for a given (user_id, movie_id) pair </b> </font>\n"
   ]
  },
  {
   "cell_type": "markdown",
   "metadata": {
    "id": "R-ISYxaVbT8L"
   },
   "source": [
    "Predicted rating $\\hat{y}_{ij}$ for user i, movied j pair is calcuated as $\\hat{y}_{ij} = \\mu + b_i + c_j + u_i^T v_j$ , here we will be finding the best values of $b_{i}$ and $c_{j}$ using SGD algorithm with the optimization problem for N users and M movies is defined as"
   ]
  },
  {
   "cell_type": "markdown",
   "metadata": {
    "id": "8Aj8SXeQWlZd"
   },
   "source": [
    "$$\n",
    "L = \\min_{ b, c, \\{ u_i \\}_{i=1}^N, \\{ v_j \\}_{j=1}^M}\n",
    "\\quad\n",
    "\\alpha \\Big(\n",
    "    \\sum_{j} \\sum_{k} v_{jk}^2 \n",
    "    + \\sum_{i} \\sum_{k} u_{ik}^2 \n",
    "    + \\sum_{i} b_i^2\n",
    "    + \\sum_{j} c_i^2\n",
    "    \\Big)\n",
    "+ \\sum_{i,j \\in \\mathcal{I}^{\\text{train}}}\n",
    "    (y_{ij} - \\mu - b_i - c_j - u_i^T v_j)^2\n",
    "$$"
   ]
  },
  {
   "cell_type": "markdown",
   "metadata": {
    "id": "2Q5bnWyZXrM7"
   },
   "source": [
    "<ul>\n",
    "<li><span class=\"math\">\\(\\mu\\)</span> : scalar mean rating</li>\n",
    "<li><span class=\"math\">\\(b_i\\)</span> : scalar bias term for user <span class=\"math\">\\(i\\)</span></li>\n",
    "<li><span class=\"math\">\\(c_j\\)</span> : scalar bias term for movie <span class=\"math\">\\(j\\)</span></li>\n",
    "<li><span class=\"math\">\\(u_i\\)</span> : K-dimensional vector for user <span class=\"math\">\\(i\\)</span></li>\n",
    "<li><span class=\"math\">\\(v_j\\)</span> : K-dimensional vector for movie <span class=\"math\">\\(j\\)</span></li>\n",
    "</ul>\n",
    "\n",
    " $ \\ $\n"
   ]
  },
  {
   "cell_type": "markdown",
   "metadata": {
    "id": "q1cf4CunbEr4"
   },
   "source": [
    "\n",
    "\n",
    "\n",
    "*.  We will be giving you some functions, please write code in that functions only.\n",
    "\n",
    "*.  After every function, we will be giving you expected output, please make sure that you get that output. \n",
    "\n",
    "\n",
    "\n"
   ]
  },
  {
   "cell_type": "markdown",
   "metadata": {
    "id": "ZWQyB5hfy3u7"
   },
   "source": [
    "1. Construct adjacency matrix with the given data, assuming its  <a href='https://en.wikipedia.org/wiki/Bipartite_graph'> weighted un-directed bi-partited graph</a> and the weight of each edge is the rating given by user to the movie\n",
    "\n",
    "<img src='https://i.imgur.com/rmUCGMb.jpg' width=200>\n",
    "\n",
    "   you can construct this matrix like $A[i][j]=r_{ij}$ here $i$ is user_id, $j$ is movie_id and $r_{ij}$ is rating given by user $i$ to the movie $j$\n",
    "\n",
    "   Hint : you can create adjacency matrix using <a href='https://docs.scipy.org/doc/scipy/reference/generated/scipy.sparse.csr_matrix.html'> csr_matrix</a>\n",
    "\n",
    "2. We will Apply SVD decomposition on the Adjaceny matrix <a href='https://stackoverflow.com/a/31528944/4084039'>link1</a>, <a href='https://machinelearningmastery.com/singular-value-decomposition-for-machine-learning/'> link2</a> and get three matrices $U, \\sum, V$ such that $U \\times \\sum \\times V^T = A$, <br> \n",
    "if $A$ is of dimensions $N \\times M$ then <br>\n",
    "U is of $N \\times k$, <br>\n",
    "$\\sum$ is of $k \\times k$ and <br>\n",
    "$V$ is $M \\times k$ dimensions. <br>\n",
    "\n",
    "   *.  So the matrix $U$ can be represented as matrix representation of users, where each row $u_{i}$ represents a k-dimensional vector for a user\n",
    "\n",
    "   *. So the matrix $V$ can be represented as matrix representation of movies, where each row $v_{j}$ represents a k-dimensional vector for a movie.\n",
    "3. Compute $\\mu$ , $\\mu$  represents the mean of all the rating given in the dataset.(write your code in <font color='blue'>def m_u()</font>)\n",
    "4. For each unique user initilize a bias value $B_{i}$ to zero, so if we have $N$ users $B$ will be a $N$ dimensional vector, the $i^{th}$ value of the $B$ will corresponds to the bias term for $i^{th}$ user (write your code in <font color='blue'>def initialize()</font>)\n",
    "\n",
    "5. For each unique movie initilize a bias value $C_{j}$ zero, so if we have $M$ movies $C$ will be a $M$ dimensional vector, the $j^{th}$ value of the $C$ will corresponds to the bias term for $j^{th}$ movie (write your code in <font color='blue'>def initialize()</font>)\n",
    "\n",
    "6. Compute dL/db_i (Write you code in <font color='blue'> def derivative_db()</font>)\n",
    "7. Compute dL/dc_j(write your code in <font color='blue'> def derivative_dc()</font>\n",
    "\n",
    "8. Print the mean squared error with predicted ratings.\n",
    "\n",
    "<pre>\n",
    "for each epoch:\n",
    "    for each pair of (user, movie):\n",
    "        b_i =  b_i - learning_rate * dL/db_i\n",
    "        c_j =  c_j - learning_rate * dL/dc_j\n",
    "predict the ratings with formula\n",
    "</pre>\n",
    "$\\hat{y}_{ij} = \\mu + b_i + c_j + \\text{dot_product}(u_i , v_j) $\n",
    "\n",
    "9. you can choose any learning rate and regularization term in the range $10^{-3}  \\text{ to } 10^2$  <br>\n",
    "  \n",
    "10. __bonus__: instead of using SVD decomposition you can learn the vectors $u_i$, $v_j$ with the help of SGD algo similar to $b_i$ and $c_j$ "
   ]
  },
  {
   "cell_type": "markdown",
   "metadata": {
    "id": "3-aBnRepA6gy"
   },
   "source": [
    "<br>"
   ]
  },
  {
   "cell_type": "markdown",
   "metadata": {
    "id": "IP_6xMAZA4mE"
   },
   "source": [
    " # <font color='red'>Task 2 </font>"
   ]
  },
  {
   "cell_type": "markdown",
   "metadata": {
    "id": "-9HCN_3WA2au"
   },
   "source": [
    "As we know U is the learned matrix of user vectors, with its i-th row as the vector ui for user i. Each row of U can be seen as a \"feature vector\" for a particular user.\n",
    "\n",
    "The question we'd like to investigate is this: do our computed per-user features that are optimized for predicting movie ratings contain anything to do with gender?\n",
    "\n",
    "The provided data file <a href='https://drive.google.com/open?id=1PHFdJh_4gIPiLH5Q4UErH8GK71hTrzlY'>user_info.csv</a> contains an is_male column indicating which users in the dataset are male. Can you predict this signal given the features U?\n",
    "\n",
    "\n",
    "> __Note 1__ : there is no train test split in the data, the goal of this assignment is to give an intution about how to do matrix factorization with the help of SGD and application of truncated SVD. for better understanding of the collabarative fillerting please check netflix case study. <br><br>\n",
    "> __Note 2__ : Check if scaling of $U$, $V$ matrices improve the metric "
   ]
  },
  {
   "cell_type": "markdown",
   "metadata": {
    "id": "ovFCo1JCBIXM"
   },
   "source": [
    "<br>\n",
    "\n",
    "\n",
    "<br>"
   ]
  },
  {
   "cell_type": "markdown",
   "metadata": {
    "id": "iVJo-3njBQLf"
   },
   "source": [
    "<font color='red'> Reading the csv file </font>"
   ]
  },
  {
   "cell_type": "code",
   "execution_count": 1,
   "metadata": {
    "colab": {
     "base_uri": "https://localhost:8080/",
     "height": 195
    },
    "id": "hEhmfRD637EW",
    "outputId": "07189bd2-eb44-43c7-f225-022cc41d0ee6"
   },
   "outputs": [
    {
     "data": {
      "text/html": [
       "<div>\n",
       "<style scoped>\n",
       "    .dataframe tbody tr th:only-of-type {\n",
       "        vertical-align: middle;\n",
       "    }\n",
       "\n",
       "    .dataframe tbody tr th {\n",
       "        vertical-align: top;\n",
       "    }\n",
       "\n",
       "    .dataframe thead th {\n",
       "        text-align: right;\n",
       "    }\n",
       "</style>\n",
       "<table border=\"1\" class=\"dataframe\">\n",
       "  <thead>\n",
       "    <tr style=\"text-align: right;\">\n",
       "      <th></th>\n",
       "      <th>user_id</th>\n",
       "      <th>item_id</th>\n",
       "      <th>rating</th>\n",
       "    </tr>\n",
       "  </thead>\n",
       "  <tbody>\n",
       "    <tr>\n",
       "      <th>0</th>\n",
       "      <td>772</td>\n",
       "      <td>36</td>\n",
       "      <td>3</td>\n",
       "    </tr>\n",
       "    <tr>\n",
       "      <th>1</th>\n",
       "      <td>471</td>\n",
       "      <td>228</td>\n",
       "      <td>5</td>\n",
       "    </tr>\n",
       "    <tr>\n",
       "      <th>2</th>\n",
       "      <td>641</td>\n",
       "      <td>401</td>\n",
       "      <td>4</td>\n",
       "    </tr>\n",
       "    <tr>\n",
       "      <th>3</th>\n",
       "      <td>312</td>\n",
       "      <td>98</td>\n",
       "      <td>4</td>\n",
       "    </tr>\n",
       "    <tr>\n",
       "      <th>4</th>\n",
       "      <td>58</td>\n",
       "      <td>504</td>\n",
       "      <td>5</td>\n",
       "    </tr>\n",
       "  </tbody>\n",
       "</table>\n",
       "</div>"
      ],
      "text/plain": [
       "   user_id  item_id  rating\n",
       "0      772       36       3\n",
       "1      471      228       5\n",
       "2      641      401       4\n",
       "3      312       98       4\n",
       "4       58      504       5"
      ]
     },
     "execution_count": 1,
     "metadata": {},
     "output_type": "execute_result"
    }
   ],
   "source": [
    "import pandas as pd\n",
    "data=pd.read_csv('ratings_train.csv')\n",
    "data.head()"
   ]
  },
  {
   "cell_type": "code",
   "execution_count": 2,
   "metadata": {
    "colab": {
     "base_uri": "https://localhost:8080/",
     "height": 34
    },
    "id": "66ibGJ74hCde",
    "outputId": "627b068c-baa2-4751-f4d5-03a7c8e8b77b"
   },
   "outputs": [
    {
     "data": {
      "text/plain": [
       "(89992, 3)"
      ]
     },
     "execution_count": 2,
     "metadata": {},
     "output_type": "execute_result"
    }
   ],
   "source": [
    "data.shape"
   ]
  },
  {
   "cell_type": "markdown",
   "metadata": {
    "id": "mvB8SDS_hW03"
   },
   "source": [
    "<font color='red'>Create your adjacency matrix </font>"
   ]
  },
  {
   "cell_type": "code",
   "execution_count": 3,
   "metadata": {
    "id": "t44MNT40hZQW"
   },
   "outputs": [],
   "source": [
    "from scipy.sparse import csr_matrix\n",
    "adjacency_matrix = csr_matrix((data['rating'], (data['user_id'], data['item_id'])))# write your code of adjacency matrix here"
   ]
  },
  {
   "cell_type": "code",
   "execution_count": 4,
   "metadata": {
    "id": "-mCgC0WbhZTO"
   },
   "outputs": [
    {
     "data": {
      "text/plain": [
       "(943, 1681)"
      ]
     },
     "execution_count": 4,
     "metadata": {},
     "output_type": "execute_result"
    }
   ],
   "source": [
    "adjacency_matrix.shape"
   ]
  },
  {
   "cell_type": "code",
   "execution_count": 5,
   "metadata": {},
   "outputs": [
    {
     "data": {
      "text/plain": [
       "<943x1681 sparse matrix of type '<class 'numpy.int64'>'\n",
       "\twith 89992 stored elements in Compressed Sparse Row format>"
      ]
     },
     "execution_count": 5,
     "metadata": {},
     "output_type": "execute_result"
    }
   ],
   "source": [
    "adjacency_matrix"
   ]
  },
  {
   "cell_type": "markdown",
   "metadata": {
    "id": "4acJD4ujEtD6"
   },
   "source": [
    "<font color='cyan'>Grader function - 1</font>"
   ]
  },
  {
   "cell_type": "code",
   "execution_count": 6,
   "metadata": {
    "id": "2QuTzFBREsDV"
   },
   "outputs": [
    {
     "data": {
      "text/plain": [
       "True"
      ]
     },
     "execution_count": 6,
     "metadata": {},
     "output_type": "execute_result"
    }
   ],
   "source": [
    "def grader_matrix(matrix):\n",
    "  assert(matrix.shape==(943,1681))\n",
    "  return True\n",
    "grader_matrix(adjacency_matrix)"
   ]
  },
  {
   "cell_type": "markdown",
   "metadata": {
    "id": "gXDf1RCUBsYN"
   },
   "source": [
    "<font color='red'> SVD decompostion</font>"
   ]
  },
  {
   "cell_type": "markdown",
   "metadata": {
    "id": "OJPWI9VwD_ih"
   },
   "source": [
    "Sample code for SVD decompostion"
   ]
  },
  {
   "cell_type": "code",
   "execution_count": 7,
   "metadata": {
    "colab": {
     "base_uri": "https://localhost:8080/",
     "height": 67
    },
    "id": "GATD35bmBszc",
    "outputId": "b3f57c71-7ce6-4796-ab6c-e7af570a864c"
   },
   "outputs": [
    {
     "name": "stdout",
     "output_type": "stream",
     "text": [
      "(20, 5)\n",
      "(5,)\n",
      "(10, 5)\n"
     ]
    }
   ],
   "source": [
    "from sklearn.utils.extmath import randomized_svd\n",
    "import numpy as np \n",
    "matrix = np.random.random((20, 10))\n",
    "U, Sigma, VT = randomized_svd(matrix, n_components=5,n_iter=5, random_state=None)\n",
    "print(U.shape)\n",
    "print(Sigma.shape)\n",
    "print(VT.T.shape)"
   ]
  },
  {
   "cell_type": "markdown",
   "metadata": {
    "id": "ePDgwALQEJoB"
   },
   "source": [
    "<font color='red'>Write your code for SVD decompostion</font>"
   ]
  },
  {
   "cell_type": "code",
   "execution_count": 8,
   "metadata": {
    "id": "ZYnsKBmFEIg3"
   },
   "outputs": [
    {
     "name": "stdout",
     "output_type": "stream",
     "text": [
      "(943, 50)\n",
      "(50,)\n",
      "(1681, 50)\n"
     ]
    }
   ],
   "source": [
    "# Please use adjacency_matrix as matrix for SVD decompostion\n",
    "# You can choose n_components as your choice\n",
    "\n",
    "#https://stackoverflow.com/questions/31523575/get-u-sigma-v-matrix-from-truncated-svd-in-scikit-learn/31528944#31528944\n",
    "U, Sigma, VT = randomized_svd(adjacency_matrix, n_components=50,n_iter=5, random_state=None)\n",
    "print(U.shape)\n",
    "print(Sigma.shape)\n",
    "print(VT.T.shape)"
   ]
  },
  {
   "cell_type": "markdown",
   "metadata": {
    "id": "83Vh4NoO_JyU"
   },
   "source": [
    "<font color='red'>Compute mean of ratings</font>"
   ]
  },
  {
   "cell_type": "code",
   "execution_count": 9,
   "metadata": {
    "id": "cBHuCn2QSEnl"
   },
   "outputs": [],
   "source": [
    "def m_u(ratings):\n",
    "    '''In this function, we will compute mean for all the ratings'''\n",
    "    # you can use mean() function to do this\n",
    "    # check this (https://pandas.pydata.org/pandas-docs/stable/reference/api/pandas.DataFrame.mean.html) link for more details.\n",
    "    global_avg=ratings.mean(axis=0, skipna=True)\n",
    "\n",
    "    return global_avg"
   ]
  },
  {
   "cell_type": "code",
   "execution_count": 10,
   "metadata": {},
   "outputs": [
    {
     "name": "stdout",
     "output_type": "stream",
     "text": [
      "3.529480398257623\n"
     ]
    }
   ],
   "source": [
    "mu=m_u(data['rating'])\n",
    "print(mu)"
   ]
  },
  {
   "cell_type": "markdown",
   "metadata": {
    "id": "76ooYQIdG_tf"
   },
   "source": [
    "<font color='cyan'>Grader function -2 </font>"
   ]
  },
  {
   "cell_type": "code",
   "execution_count": 11,
   "metadata": {
    "id": "TZy1m67oG9r9"
   },
   "outputs": [
    {
     "data": {
      "text/plain": [
       "True"
      ]
     },
     "execution_count": 11,
     "metadata": {},
     "output_type": "execute_result"
    }
   ],
   "source": [
    "def grader_mean(mu):\n",
    "  assert(np.round(mu,3)==3.529)\n",
    "  return True\n",
    "mu=m_u(data['rating'])\n",
    "grader_mean(mu)"
   ]
  },
  {
   "cell_type": "markdown",
   "metadata": {
    "id": "qSvAW1X94g3G"
   },
   "source": [
    "<font color='red'>Initialize $B_{i}$ and $C_{j}$"
   ]
  },
  {
   "cell_type": "markdown",
   "metadata": {
    "id": "qsOl-4xq5aUG"
   },
   "source": [
    "Hint : Number of rows of adjacent matrix corresponds to user dimensions($B_{i}$), number of columns of adjacent matrix corresponds to movie dimensions ($C_{j}$)"
   ]
  },
  {
   "cell_type": "code",
   "execution_count": 12,
   "metadata": {
    "id": "AyEJqPka4lBW"
   },
   "outputs": [],
   "source": [
    "def initialize(dim):\n",
    "    '''In this function, we will initialize bias value 'B' and 'C'.'''\n",
    "    # initalize the value to zeros \n",
    "    # return output as a list of zeros \n",
    "\n",
    "    return list(np.zeros(dim))"
   ]
  },
  {
   "cell_type": "code",
   "execution_count": 13,
   "metadata": {},
   "outputs": [
    {
     "data": {
      "text/plain": [
       "(943, 1681)"
      ]
     },
     "execution_count": 13,
     "metadata": {},
     "output_type": "execute_result"
    }
   ],
   "source": [
    "adjacency_matrix.shape"
   ]
  },
  {
   "cell_type": "code",
   "execution_count": 14,
   "metadata": {},
   "outputs": [
    {
     "data": {
      "text/plain": [
       "(943, 1681)"
      ]
     },
     "execution_count": 14,
     "metadata": {},
     "output_type": "execute_result"
    }
   ],
   "source": [
    "adjacency_matrix.shape[0], adjacency_matrix.shape[1]"
   ]
  },
  {
   "cell_type": "code",
   "execution_count": 15,
   "metadata": {
    "id": "Nlae9QAQ43Xz"
   },
   "outputs": [],
   "source": [
    "dim= adjacency_matrix.todense().shape[0] # give the number of dimensions for b_i (Here b_i corresponds to users)\n",
    "b_i=initialize(dim)"
   ]
  },
  {
   "cell_type": "code",
   "execution_count": 16,
   "metadata": {
    "id": "rwuopn4HoEbP"
   },
   "outputs": [],
   "source": [
    "dim= adjacency_matrix.todense().shape[1] # give the number of dimensions for c_j (Here c_j corresponds to movies)\n",
    "c_j=initialize(dim)"
   ]
  },
  {
   "cell_type": "code",
   "execution_count": 17,
   "metadata": {},
   "outputs": [],
   "source": [
    "# b_i\n",
    "# c_j"
   ]
  },
  {
   "cell_type": "code",
   "execution_count": null,
   "metadata": {},
   "outputs": [],
   "source": []
  },
  {
   "cell_type": "markdown",
   "metadata": {
    "id": "nfPJ3_h6JIkI"
   },
   "source": [
    "<font color='cyan'>Grader function -3 </font>"
   ]
  },
  {
   "cell_type": "code",
   "execution_count": 18,
   "metadata": {
    "id": "dQhiNjw0Hz4m"
   },
   "outputs": [
    {
     "data": {
      "text/plain": [
       "True"
      ]
     },
     "execution_count": 18,
     "metadata": {},
     "output_type": "execute_result"
    }
   ],
   "source": [
    "def grader_dim(b_i,c_j):\n",
    "  assert(len(b_i)==943 and np.sum(b_i)==0)\n",
    "  assert(len(c_j)==1681 and np.sum(c_j)==0)\n",
    "  return True\n",
    "grader_dim(b_i,c_j)"
   ]
  },
  {
   "cell_type": "markdown",
   "metadata": {
    "id": "DTDK4ZR18MrZ"
   },
   "source": [
    "<font color='red'>Compute dL/db_i</font>"
   ]
  },
  {
   "cell_type": "code",
   "execution_count": 19,
   "metadata": {
    "id": "3NFzVC1N8S4L"
   },
   "outputs": [],
   "source": [
    "def derivative_db(user_id,item_id,rating,U,V,mu,alpha):\n",
    "    '''In this function, we will compute dL/db_i'''\n",
    "    db = (2*alpha*b_i[user_id]) - (2*(rating-mu-b_i[user_id]-c_j[item_id]-np.dot(U[user_id],V[:,item_id])))\n",
    "    return db\n"
   ]
  },
  {
   "cell_type": "markdown",
   "metadata": {
    "id": "ilISrTeQ0f0v"
   },
   "source": [
    "<font color='cyan'>Grader function -4 </font>"
   ]
  },
  {
   "cell_type": "code",
   "execution_count": 20,
   "metadata": {
    "id": "Wt5ixEVZ043U"
   },
   "outputs": [
    {
     "data": {
      "text/plain": [
       "True"
      ]
     },
     "execution_count": 20,
     "metadata": {},
     "output_type": "execute_result"
    }
   ],
   "source": [
    "def grader_db(value):\n",
    "    assert(np.round(value,3)==-0.931)\n",
    "    return True\n",
    "U1, Sigma, V1 = randomized_svd(adjacency_matrix, n_components=2,n_iter=5, random_state=24)\n",
    "# Please don't change random state\n",
    "# Here we are considering n_componets = 2 for our convinence\n",
    "alpha=0.01 \n",
    "value=derivative_db(312,98,4,U1,V1,mu,alpha)\n",
    "grader_db(value)"
   ]
  },
  {
   "cell_type": "markdown",
   "metadata": {
    "id": "1Kp0hC_b9v60"
   },
   "source": [
    "<font color='red'>Compute dL/dc_j</font>"
   ]
  },
  {
   "cell_type": "code",
   "execution_count": 21,
   "metadata": {
    "id": "FAtSYMrc9UqJ"
   },
   "outputs": [],
   "source": [
    "def derivative_dc(user_id,item_id,rating,U,V,mu, alpha=0.01):\n",
    "    '''In this function, we will compute dL/dc_j'''\n",
    "    \n",
    "    dc = (2*alpha*c_j[item_id]) - (2*(rating-mu-b_i[user_id]-c_j[item_id]-np.dot(U[user_id],V[:,item_id])))\n",
    "    return dc\n"
   ]
  },
  {
   "cell_type": "markdown",
   "metadata": {
    "id": "lxkAm8aH1SBF"
   },
   "source": [
    "<font color='cyan'>Grader function - 5 </font>"
   ]
  },
  {
   "cell_type": "code",
   "execution_count": 22,
   "metadata": {
    "id": "RaIN9yie1US8"
   },
   "outputs": [
    {
     "data": {
      "text/plain": [
       "True"
      ]
     },
     "execution_count": 22,
     "metadata": {},
     "output_type": "execute_result"
    }
   ],
   "source": [
    "def grader_dc(value):\n",
    "    assert(np.round(value,3)==-2.929)\n",
    "    return True\n",
    "U1, Sigma, V1 = randomized_svd(adjacency_matrix, n_components=2,n_iter=5, random_state=24)\n",
    "# Please don't change random state\n",
    "# Here we are considering n_componets = 2 for our convinence\n",
    "r=0.01 \n",
    "value=derivative_dc(58,504,5,U1,V1,mu)\n",
    "grader_dc(value)"
   ]
  },
  {
   "cell_type": "markdown",
   "metadata": {
    "id": "lg5XNbDWCIKI"
   },
   "source": [
    "<font color='red'>Compute MSE (mean squared error) for predicted ratings</font>\n"
   ]
  },
  {
   "cell_type": "markdown",
   "metadata": {
    "id": "7WUjNy0TDQX6"
   },
   "source": [
    "for each epoch, print the MSE value"
   ]
  },
  {
   "cell_type": "markdown",
   "metadata": {
    "id": "D2pCy1AKCafw"
   },
   "source": [
    "<pre>\n",
    "for each epoch:\n",
    "\n",
    "    for each pair of (user, movie):\n",
    "\n",
    "        b_i =  b_i - learning_rate * dL/db_i\n",
    "\n",
    "        c_j =  c_j - learning_rate * dL/dc_j\n",
    "\n",
    "predict the ratings with formula\n",
    "</pre>\n",
    "\n",
    "$\\hat{y}_{ij} = \\mu + b_i + c_j + \\text{dot_product}(u_i , v_j) $"
   ]
  },
  {
   "cell_type": "code",
   "execution_count": 23,
   "metadata": {
    "id": "kiKj-M6d2a-Y"
   },
   "outputs": [
    {
     "name": "stderr",
     "output_type": "stream",
     "text": [
      "  3%|██▎                                                                                | 1/35 [00:02<01:40,  2.97s/it]"
     ]
    },
    {
     "name": "stdout",
     "output_type": "stream",
     "text": [
      "MSE: 0.9017059075629639\n"
     ]
    },
    {
     "name": "stderr",
     "output_type": "stream",
     "text": [
      "\r",
      "  6%|████▋                                                                              | 2/35 [00:05<01:35,  2.90s/it]"
     ]
    },
    {
     "name": "stdout",
     "output_type": "stream",
     "text": [
      "MSE: 0.8189199613277889\n"
     ]
    },
    {
     "name": "stderr",
     "output_type": "stream",
     "text": [
      "\r",
      "  9%|███████                                                                            | 3/35 [00:08<01:33,  2.93s/it]"
     ]
    },
    {
     "name": "stdout",
     "output_type": "stream",
     "text": [
      "MSE: 0.8036557093527108\n"
     ]
    },
    {
     "name": "stderr",
     "output_type": "stream",
     "text": [
      "\r",
      " 11%|█████████▍                                                                         | 4/35 [00:11<01:32,  2.98s/it]"
     ]
    },
    {
     "name": "stdout",
     "output_type": "stream",
     "text": [
      "MSE: 0.7973104715262753\n"
     ]
    },
    {
     "name": "stderr",
     "output_type": "stream",
     "text": [
      "\r",
      " 14%|███████████▊                                                                       | 5/35 [00:14<01:30,  3.01s/it]"
     ]
    },
    {
     "name": "stdout",
     "output_type": "stream",
     "text": [
      "MSE: 0.7940308828624201\n"
     ]
    },
    {
     "name": "stderr",
     "output_type": "stream",
     "text": [
      "\r",
      " 17%|██████████████▏                                                                    | 6/35 [00:17<01:27,  3.00s/it]"
     ]
    },
    {
     "name": "stdout",
     "output_type": "stream",
     "text": [
      "MSE: 0.7920948614001945\n"
     ]
    },
    {
     "name": "stderr",
     "output_type": "stream",
     "text": [
      "\r",
      " 20%|████████████████▌                                                                  | 7/35 [00:20<01:23,  2.97s/it]"
     ]
    },
    {
     "name": "stdout",
     "output_type": "stream",
     "text": [
      "MSE: 0.790838805307673\n"
     ]
    },
    {
     "name": "stderr",
     "output_type": "stream",
     "text": [
      "\r",
      " 23%|██████████████████▉                                                                | 8/35 [00:23<01:19,  2.96s/it]"
     ]
    },
    {
     "name": "stdout",
     "output_type": "stream",
     "text": [
      "MSE: 0.7899639609297673\n"
     ]
    },
    {
     "name": "stderr",
     "output_type": "stream",
     "text": [
      "\r",
      " 26%|█████████████████████▎                                                             | 9/35 [00:26<01:17,  2.97s/it]"
     ]
    },
    {
     "name": "stdout",
     "output_type": "stream",
     "text": [
      "MSE: 0.7893205040759688\n"
     ]
    },
    {
     "name": "stderr",
     "output_type": "stream",
     "text": [
      "\r",
      " 29%|███████████████████████▍                                                          | 10/35 [00:29<01:13,  2.93s/it]"
     ]
    },
    {
     "name": "stdout",
     "output_type": "stream",
     "text": [
      "MSE: 0.788826821220127\n"
     ]
    },
    {
     "name": "stderr",
     "output_type": "stream",
     "text": [
      "\r",
      " 31%|█████████████████████████▊                                                        | 11/35 [00:32<01:12,  3.01s/it]"
     ]
    },
    {
     "name": "stdout",
     "output_type": "stream",
     "text": [
      "MSE: 0.7884353525355162\n"
     ]
    },
    {
     "name": "stderr",
     "output_type": "stream",
     "text": [
      "\r",
      " 34%|████████████████████████████                                                      | 12/35 [00:35<01:08,  2.98s/it]"
     ]
    },
    {
     "name": "stdout",
     "output_type": "stream",
     "text": [
      "MSE: 0.7881167576948707\n"
     ]
    },
    {
     "name": "stderr",
     "output_type": "stream",
     "text": [
      "\r",
      " 37%|██████████████████████████████▍                                                   | 13/35 [00:38<01:05,  2.97s/it]"
     ]
    },
    {
     "name": "stdout",
     "output_type": "stream",
     "text": [
      "MSE: 0.7878520297689855\n"
     ]
    },
    {
     "name": "stderr",
     "output_type": "stream",
     "text": [
      "\r",
      " 40%|████████████████████████████████▊                                                 | 14/35 [00:41<01:01,  2.91s/it]"
     ]
    },
    {
     "name": "stdout",
     "output_type": "stream",
     "text": [
      "MSE: 0.7876283268687309\n"
     ]
    },
    {
     "name": "stderr",
     "output_type": "stream",
     "text": [
      "\r",
      " 43%|███████████████████████████████████▏                                              | 15/35 [00:44<00:57,  2.87s/it]"
     ]
    },
    {
     "name": "stdout",
     "output_type": "stream",
     "text": [
      "MSE: 0.7874366529007598\n"
     ]
    },
    {
     "name": "stderr",
     "output_type": "stream",
     "text": [
      "\r",
      " 46%|█████████████████████████████████████▍                                            | 16/35 [00:47<00:55,  2.92s/it]"
     ]
    },
    {
     "name": "stdout",
     "output_type": "stream",
     "text": [
      "MSE: 0.7872705072945051\n"
     ]
    },
    {
     "name": "stderr",
     "output_type": "stream",
     "text": [
      "\r",
      " 49%|███████████████████████████████████████▊                                          | 17/35 [00:50<00:53,  2.95s/it]"
     ]
    },
    {
     "name": "stdout",
     "output_type": "stream",
     "text": [
      "MSE: 0.7871250662723664\n"
     ]
    },
    {
     "name": "stderr",
     "output_type": "stream",
     "text": [
      "\r",
      " 51%|██████████████████████████████████████████▏                                       | 18/35 [00:53<00:50,  2.97s/it]"
     ]
    },
    {
     "name": "stdout",
     "output_type": "stream",
     "text": [
      "MSE: 0.7869966679114984\n"
     ]
    },
    {
     "name": "stderr",
     "output_type": "stream",
     "text": [
      "\r",
      " 54%|████████████████████████████████████████████▌                                     | 19/35 [00:56<00:46,  2.93s/it]"
     ]
    },
    {
     "name": "stdout",
     "output_type": "stream",
     "text": [
      "MSE: 0.7868824774089583\n"
     ]
    },
    {
     "name": "stderr",
     "output_type": "stream",
     "text": [
      "\r",
      " 57%|██████████████████████████████████████████████▊                                   | 20/35 [00:59<00:44,  2.96s/it]"
     ]
    },
    {
     "name": "stdout",
     "output_type": "stream",
     "text": [
      "MSE: 0.7867802629278088\n"
     ]
    },
    {
     "name": "stderr",
     "output_type": "stream",
     "text": [
      "\r",
      " 60%|█████████████████████████████████████████████████▏                                | 21/35 [01:01<00:40,  2.92s/it]"
     ]
    },
    {
     "name": "stdout",
     "output_type": "stream",
     "text": [
      "MSE: 0.78668824143653\n"
     ]
    },
    {
     "name": "stderr",
     "output_type": "stream",
     "text": [
      "\r",
      " 63%|███████████████████████████████████████████████████▌                              | 22/35 [01:04<00:37,  2.89s/it]"
     ]
    },
    {
     "name": "stdout",
     "output_type": "stream",
     "text": [
      "MSE: 0.7866049701229881\n"
     ]
    },
    {
     "name": "stderr",
     "output_type": "stream",
     "text": [
      "\r",
      " 66%|█████████████████████████████████████████████████████▉                            | 23/35 [01:07<00:34,  2.88s/it]"
     ]
    },
    {
     "name": "stdout",
     "output_type": "stream",
     "text": [
      "MSE: 0.7865292682587258\n"
     ]
    },
    {
     "name": "stderr",
     "output_type": "stream",
     "text": [
      "\r",
      " 69%|████████████████████████████████████████████████████████▏                         | 24/35 [01:10<00:31,  2.86s/it]"
     ]
    },
    {
     "name": "stdout",
     "output_type": "stream",
     "text": [
      "MSE: 0.786460159891621\n"
     ]
    },
    {
     "name": "stderr",
     "output_type": "stream",
     "text": [
      "\r",
      " 71%|██████████████████████████████████████████████████████████▌                       | 25/35 [01:13<00:28,  2.84s/it]"
     ]
    },
    {
     "name": "stdout",
     "output_type": "stream",
     "text": [
      "MSE: 0.7863968310923916\n"
     ]
    },
    {
     "name": "stderr",
     "output_type": "stream",
     "text": [
      "\r",
      " 74%|████████████████████████████████████████████████████████████▉                     | 26/35 [01:16<00:25,  2.84s/it]"
     ]
    },
    {
     "name": "stdout",
     "output_type": "stream",
     "text": [
      "MSE: 0.7863385975692134\n"
     ]
    },
    {
     "name": "stderr",
     "output_type": "stream",
     "text": [
      "\r",
      " 77%|███████████████████████████████████████████████████████████████▎                  | 27/35 [01:19<00:22,  2.87s/it]"
     ]
    },
    {
     "name": "stdout",
     "output_type": "stream",
     "text": [
      "MSE: 0.786284879799181\n"
     ]
    },
    {
     "name": "stderr",
     "output_type": "stream",
     "text": [
      "\r",
      " 80%|█████████████████████████████████████████████████████████████████▌                | 28/35 [01:21<00:19,  2.85s/it]"
     ]
    },
    {
     "name": "stdout",
     "output_type": "stream",
     "text": [
      "MSE: 0.786235183696717\n"
     ]
    },
    {
     "name": "stderr",
     "output_type": "stream",
     "text": [
      "\r",
      " 83%|███████████████████████████████████████████████████████████████████▉              | 29/35 [01:24<00:16,  2.83s/it]"
     ]
    },
    {
     "name": "stdout",
     "output_type": "stream",
     "text": [
      "MSE: 0.7861890854196923\n"
     ]
    },
    {
     "name": "stderr",
     "output_type": "stream",
     "text": [
      "\r",
      " 86%|██████████████████████████████████████████████████████████████████████▎           | 30/35 [01:27<00:14,  2.83s/it]"
     ]
    },
    {
     "name": "stdout",
     "output_type": "stream",
     "text": [
      "MSE: 0.7861462193082627\n"
     ]
    },
    {
     "name": "stderr",
     "output_type": "stream",
     "text": [
      "\r",
      " 89%|████████████████████████████████████████████████████████████████████████▋         | 31/35 [01:30<00:11,  2.81s/it]"
     ]
    },
    {
     "name": "stdout",
     "output_type": "stream",
     "text": [
      "MSE: 0.7861062682238271\n"
     ]
    },
    {
     "name": "stderr",
     "output_type": "stream",
     "text": [
      "\r",
      " 91%|██████████████████████████████████████████████████████████████████████████▉       | 32/35 [01:32<00:08,  2.81s/it]"
     ]
    },
    {
     "name": "stdout",
     "output_type": "stream",
     "text": [
      "MSE: 0.7860689557467724\n"
     ]
    },
    {
     "name": "stderr",
     "output_type": "stream",
     "text": [
      "\r",
      " 94%|█████████████████████████████████████████████████████████████████████████████▎    | 33/35 [01:35<00:05,  2.82s/it]"
     ]
    },
    {
     "name": "stdout",
     "output_type": "stream",
     "text": [
      "MSE: 0.7860340398279682\n"
     ]
    },
    {
     "name": "stderr",
     "output_type": "stream",
     "text": [
      "\r",
      " 97%|███████████████████████████████████████████████████████████████████████████████▋  | 34/35 [01:38<00:02,  2.82s/it]"
     ]
    },
    {
     "name": "stdout",
     "output_type": "stream",
     "text": [
      "MSE: 0.786001307587486\n"
     ]
    },
    {
     "name": "stderr",
     "output_type": "stream",
     "text": [
      "100%|██████████████████████████████████████████████████████████████████████████████████| 35/35 [01:41<00:00,  2.90s/it]"
     ]
    },
    {
     "name": "stdout",
     "output_type": "stream",
     "text": [
      "MSE: 0.7859705710261061\n"
     ]
    },
    {
     "name": "stderr",
     "output_type": "stream",
     "text": [
      "\n"
     ]
    }
   ],
   "source": [
    "from sklearn.metrics import mean_squared_error\n",
    "from tqdm import tqdm\n",
    "\n",
    "tp=tuple(data.iloc[:,[0,1]].values.tolist())\n",
    "rating = data['rating']\n",
    "mse = []\n",
    "epochs = 35\n",
    "lr= 0.01\n",
    "alpha = 0.01\n",
    "for i in tqdm(range(epochs)):\n",
    "    y_pred = []\n",
    "    j=0\n",
    "    for (user_id,item_id) in tp:\n",
    "        b_i[user_id] = b_i[user_id] - lr*(derivative_db(user_id,item_id,data['rating'][j],U,VT,mu,alpha))\n",
    "        c_j[item_id] = c_j[item_id] - lr*(derivative_dc(user_id,item_id,data['rating'][j],U,VT,mu))\n",
    "        \n",
    "        j += 1\n",
    "        y_pred.append(mu+b_i[user_id]+c_j[item_id]+np.dot(U[user_id],VT[:,item_id])) \n",
    "        \n",
    "    final_error = mean_squared_error(list(rating),y_pred)\n",
    "    print(\"MSE:\",final_error)\n",
    "    mse.append(final_error)"
   ]
  },
  {
   "cell_type": "markdown",
   "metadata": {
    "id": "hTXYZFFUVSg5"
   },
   "source": [
    "<font color='red'>Plot epoch number vs MSE </font>\n",
    "\n",
    "* epoch number on X-axis\n",
    "* MSE on Y-axis"
   ]
  },
  {
   "cell_type": "code",
   "execution_count": 24,
   "metadata": {
    "id": "igkkO3EvVRt6"
   },
   "outputs": [
    {
     "data": {
      "image/png": "[encoded data removed]",
      "text/plain": [
       "<Figure size 432x288 with 1 Axes>"
      ]
     },
     "metadata": {
      "needs_background": "light"
     },
     "output_type": "display_data"
    }
   ],
   "source": [
    "import matplotlib.pyplot as plt\n",
    "plt.plot(range(1,len(mse)+1),mse,label=\"MEAN_SQUARED_ERROR\")\n",
    "plt.xlabel(\"Epochs\")\n",
    "plt.ylabel(\"Error\")\n",
    "plt.title(\"Epochs vs Error\")\n",
    "plt.show()"
   ]
  },
  {
   "cell_type": "markdown",
   "metadata": {
    "id": "NeWAGkT6C9kq"
   },
   "source": [
    "<br>"
   ]
  },
  {
   "cell_type": "markdown",
   "metadata": {
    "id": "lkIQOOo1C9o7"
   },
   "source": [
    "<font color='red'> Task 2</font>"
   ]
  },
  {
   "cell_type": "code",
   "execution_count": 25,
   "metadata": {
    "id": "9kl4Ryi_7E_T"
   },
   "outputs": [],
   "source": [
    "data2 = pd.read_csv('user_info.csv.txt')"
   ]
  },
  {
   "cell_type": "code",
   "execution_count": 26,
   "metadata": {},
   "outputs": [
    {
     "data": {
      "text/html": [
       "<div>\n",
       "<style scoped>\n",
       "    .dataframe tbody tr th:only-of-type {\n",
       "        vertical-align: middle;\n",
       "    }\n",
       "\n",
       "    .dataframe tbody tr th {\n",
       "        vertical-align: top;\n",
       "    }\n",
       "\n",
       "    .dataframe thead th {\n",
       "        text-align: right;\n",
       "    }\n",
       "</style>\n",
       "<table border=\"1\" class=\"dataframe\">\n",
       "  <thead>\n",
       "    <tr style=\"text-align: right;\">\n",
       "      <th></th>\n",
       "      <th>user_id</th>\n",
       "      <th>age</th>\n",
       "      <th>is_male</th>\n",
       "      <th>orig_user_id</th>\n",
       "    </tr>\n",
       "  </thead>\n",
       "  <tbody>\n",
       "    <tr>\n",
       "      <th>0</th>\n",
       "      <td>0</td>\n",
       "      <td>24</td>\n",
       "      <td>1</td>\n",
       "      <td>1</td>\n",
       "    </tr>\n",
       "    <tr>\n",
       "      <th>1</th>\n",
       "      <td>1</td>\n",
       "      <td>53</td>\n",
       "      <td>0</td>\n",
       "      <td>2</td>\n",
       "    </tr>\n",
       "    <tr>\n",
       "      <th>2</th>\n",
       "      <td>2</td>\n",
       "      <td>23</td>\n",
       "      <td>1</td>\n",
       "      <td>3</td>\n",
       "    </tr>\n",
       "    <tr>\n",
       "      <th>3</th>\n",
       "      <td>3</td>\n",
       "      <td>24</td>\n",
       "      <td>1</td>\n",
       "      <td>4</td>\n",
       "    </tr>\n",
       "    <tr>\n",
       "      <th>4</th>\n",
       "      <td>4</td>\n",
       "      <td>33</td>\n",
       "      <td>0</td>\n",
       "      <td>5</td>\n",
       "    </tr>\n",
       "    <tr>\n",
       "      <th>...</th>\n",
       "      <td>...</td>\n",
       "      <td>...</td>\n",
       "      <td>...</td>\n",
       "      <td>...</td>\n",
       "    </tr>\n",
       "    <tr>\n",
       "      <th>938</th>\n",
       "      <td>938</td>\n",
       "      <td>26</td>\n",
       "      <td>0</td>\n",
       "      <td>939</td>\n",
       "    </tr>\n",
       "    <tr>\n",
       "      <th>939</th>\n",
       "      <td>939</td>\n",
       "      <td>32</td>\n",
       "      <td>1</td>\n",
       "      <td>940</td>\n",
       "    </tr>\n",
       "    <tr>\n",
       "      <th>940</th>\n",
       "      <td>940</td>\n",
       "      <td>20</td>\n",
       "      <td>1</td>\n",
       "      <td>941</td>\n",
       "    </tr>\n",
       "    <tr>\n",
       "      <th>941</th>\n",
       "      <td>941</td>\n",
       "      <td>48</td>\n",
       "      <td>0</td>\n",
       "      <td>942</td>\n",
       "    </tr>\n",
       "    <tr>\n",
       "      <th>942</th>\n",
       "      <td>942</td>\n",
       "      <td>22</td>\n",
       "      <td>1</td>\n",
       "      <td>943</td>\n",
       "    </tr>\n",
       "  </tbody>\n",
       "</table>\n",
       "<p>943 rows × 4 columns</p>\n",
       "</div>"
      ],
      "text/plain": [
       "     user_id  age  is_male  orig_user_id\n",
       "0          0   24        1             1\n",
       "1          1   53        0             2\n",
       "2          2   23        1             3\n",
       "3          3   24        1             4\n",
       "4          4   33        0             5\n",
       "..       ...  ...      ...           ...\n",
       "938      938   26        0           939\n",
       "939      939   32        1           940\n",
       "940      940   20        1           941\n",
       "941      941   48        0           942\n",
       "942      942   22        1           943\n",
       "\n",
       "[943 rows x 4 columns]"
      ]
     },
     "execution_count": 26,
     "metadata": {},
     "output_type": "execute_result"
    }
   ],
   "source": [
    "data2"
   ]
  },
  {
   "cell_type": "code",
   "execution_count": 27,
   "metadata": {
    "id": "c1FTc39gDdti"
   },
   "outputs": [
    {
     "data": {
      "text/plain": [
       "((943, 1681), (943, 4))"
      ]
     },
     "execution_count": 27,
     "metadata": {},
     "output_type": "execute_result"
    }
   ],
   "source": [
    "adjacency_matrix.shape, data2.shape"
   ]
  },
  {
   "cell_type": "code",
   "execution_count": 28,
   "metadata": {},
   "outputs": [
    {
     "data": {
      "text/plain": [
       "1    670\n",
       "0    273\n",
       "Name: is_male, dtype: int64"
      ]
     },
     "execution_count": 28,
     "metadata": {},
     "output_type": "execute_result"
    }
   ],
   "source": [
    "data2['is_male'].value_counts()"
   ]
  },
  {
   "cell_type": "code",
   "execution_count": 29,
   "metadata": {},
   "outputs": [],
   "source": [
    "X = pd.DataFrame(U)\n",
    "y = data2['is_male']"
   ]
  },
  {
   "cell_type": "code",
   "execution_count": 30,
   "metadata": {},
   "outputs": [
    {
     "data": {
      "text/plain": [
       "(943, 50)"
      ]
     },
     "execution_count": 30,
     "metadata": {},
     "output_type": "execute_result"
    }
   ],
   "source": [
    "X.shape"
   ]
  },
  {
   "cell_type": "code",
   "execution_count": 31,
   "metadata": {},
   "outputs": [
    {
     "data": {
      "text/plain": [
       "(943,)"
      ]
     },
     "execution_count": 31,
     "metadata": {},
     "output_type": "execute_result"
    }
   ],
   "source": [
    "y.shape"
   ]
  },
  {
   "cell_type": "code",
   "execution_count": 32,
   "metadata": {},
   "outputs": [
    {
     "data": {
      "text/plain": [
       "LogisticRegression(C=0.1, class_weight='balanced')"
      ]
     },
     "execution_count": 32,
     "metadata": {},
     "output_type": "execute_result"
    }
   ],
   "source": [
    "from sklearn.linear_model import LogisticRegression\n",
    "clf = LogisticRegression(C=0.1,class_weight='balanced')\n",
    "clf.fit(X,y)"
   ]
  },
  {
   "cell_type": "code",
   "execution_count": 33,
   "metadata": {},
   "outputs": [
    {
     "data": {
      "text/plain": [
       "0.7433722163308589"
      ]
     },
     "execution_count": 33,
     "metadata": {},
     "output_type": "execute_result"
    }
   ],
   "source": [
    "clf.score(X,y)"
   ]
  },
  {
   "cell_type": "code",
   "execution_count": 35,
   "metadata": {},
   "outputs": [
    {
     "name": "stdout",
     "output_type": "stream",
     "text": [
      "Accuracy score :  0.7433722163308589\n"
     ]
    }
   ],
   "source": [
    "from sklearn.metrics import accuracy_score\n",
    "print(\"Accuracy score : \",accuracy_score(y, clf.predict(X)))"
   ]
  },
  {
   "cell_type": "code",
   "execution_count": 36,
   "metadata": {},
   "outputs": [
    {
     "data": {
      "image/png": "[encoded data removed]",
      "text/plain": [
       "<Figure size 432x288 with 2 Axes>"
      ]
     },
     "metadata": {
      "needs_background": "light"
     },
     "output_type": "display_data"
    }
   ],
   "source": [
    "from sklearn.metrics import confusion_matrix\n",
    "cm=confusion_matrix(y, clf.predict(X))\n",
    "import seaborn as sns    \n",
    "\n",
    "ax= plt.subplot();\n",
    "sns.heatmap(cm, annot=True,fmt='d',cmap='Blues',ax=ax);\n",
    "ax.set_xlabel('Predicted labels');ax.set_ylabel('True labels'); \n",
    "ax.set_ylim(2.0, 0)\n",
    "ax.set_title('Confusion Matrix');\n",
    "ax.xaxis.set_ticklabels(['0','1']); \n",
    "ax.yaxis.set_ticklabels(['0','1']);\n",
    "plt.show()"
   ]
  },
  {
   "cell_type": "code",
   "execution_count": 37,
   "metadata": {},
   "outputs": [
    {
     "name": "stdout",
     "output_type": "stream",
     "text": [
      "Confusion_Matrix\n",
      "[[194  79]\n",
      " [163 507]]\n"
     ]
    }
   ],
   "source": [
    "print(\"Confusion_Matrix\")\n",
    "print(cm)"
   ]
  },
  {
   "cell_type": "markdown",
   "metadata": {},
   "source": [
    "# Effect of Scaling"
   ]
  },
  {
   "cell_type": "code",
   "execution_count": 38,
   "metadata": {},
   "outputs": [],
   "source": [
    "from sklearn.preprocessing import StandardScaler\n",
    "scaler = StandardScaler()\n",
    "X = scaler.fit_transform(X)"
   ]
  },
  {
   "cell_type": "code",
   "execution_count": 39,
   "metadata": {},
   "outputs": [
    {
     "data": {
      "text/plain": [
       "array([[ 1.95862075,  0.59064587, -0.65160275, ...,  2.85807543,\n",
       "        -0.01392064,  1.44687207],\n",
       "       [-0.52328929, -1.24841214,  1.53751696, ...,  0.47706637,\n",
       "        -0.64041551, -0.33436841],\n",
       "       [-0.91062587, -0.47865915,  0.38010501, ...,  0.91376541,\n",
       "         0.30682688, -0.25899623],\n",
       "       ...,\n",
       "       [-0.81853694, -0.50605723, -0.05351838, ..., -0.5682914 ,\n",
       "        -0.26244188,  0.19545511],\n",
       "       [ 0.01267782,  0.48018606,  0.57114001, ..., -2.56983088,\n",
       "        -1.83184124,  1.21479926],\n",
       "       [ 0.87996273,  0.24399349, -2.18041155, ..., -0.49698596,\n",
       "        -1.84214478, -0.93253443]])"
      ]
     },
     "execution_count": 39,
     "metadata": {},
     "output_type": "execute_result"
    }
   ],
   "source": [
    "X"
   ]
  },
  {
   "cell_type": "code",
   "execution_count": 40,
   "metadata": {},
   "outputs": [
    {
     "data": {
      "text/plain": [
       "(943, 50)"
      ]
     },
     "execution_count": 40,
     "metadata": {},
     "output_type": "execute_result"
    }
   ],
   "source": [
    "X.shape"
   ]
  },
  {
   "cell_type": "code",
   "execution_count": 41,
   "metadata": {},
   "outputs": [
    {
     "data": {
      "text/plain": [
       "LogisticRegression(C=0.1, class_weight='balanced')"
      ]
     },
     "execution_count": 41,
     "metadata": {},
     "output_type": "execute_result"
    }
   ],
   "source": [
    "clf = LogisticRegression(C=0.1,class_weight='balanced')\n",
    "clf.fit(X,y)"
   ]
  },
  {
   "cell_type": "code",
   "execution_count": 42,
   "metadata": {},
   "outputs": [
    {
     "data": {
      "text/plain": [
       "0.7317073170731707"
      ]
     },
     "execution_count": 42,
     "metadata": {},
     "output_type": "execute_result"
    }
   ],
   "source": [
    "clf.score(X,y)"
   ]
  },
  {
   "cell_type": "code",
   "execution_count": 44,
   "metadata": {},
   "outputs": [
    {
     "name": "stdout",
     "output_type": "stream",
     "text": [
      "Accuracy score :  0.7317073170731707\n"
     ]
    }
   ],
   "source": [
    "from sklearn.metrics import accuracy_score\n",
    "print(\"Accuracy score : \",accuracy_score(y, clf.predict(X)))"
   ]
  },
  {
   "cell_type": "code",
   "execution_count": 45,
   "metadata": {},
   "outputs": [
    {
     "data": {
      "image/png": "[encoded data removed]",
      "text/plain": [
       "<Figure size 432x288 with 2 Axes>"
      ]
     },
     "metadata": {
      "needs_background": "light"
     },
     "output_type": "display_data"
    }
   ],
   "source": [
    "cm=confusion_matrix(y, clf.predict(X))\n",
    "ax= plt.subplot();\n",
    "sns.heatmap(cm, annot=True,fmt='d',cmap='Blues',ax=ax);\n",
    "ax.set_xlabel('Predicted labels');ax.set_ylabel('True labels'); \n",
    "ax.set_ylim(2.0, 0)\n",
    "ax.set_title('Confusion Matrix');\n",
    "ax.xaxis.set_ticklabels(['0','1']); \n",
    "ax.yaxis.set_ticklabels(['0','1']);\n",
    "plt.show()"
   ]
  },
  {
   "cell_type": "markdown",
   "metadata": {},
   "source": [
    "There is not much change by Scaling, instead model performance slightly decreased."
   ]
  },
  {
   "cell_type": "code",
   "execution_count": null,
   "metadata": {},
   "outputs": [],
   "source": []
  }
 ],
 "metadata": {
  "colab": {
   "collapsed_sections": [],
   "name": "Recommendation_system_assignment.ipynb",
   "provenance": []
  },
  "kernelspec": {
   "display_name": "Python 3",
   "language": "python",
   "name": "python3"
  },
  "language_info": {
   "codemirror_mode": {
    "name": "ipython",
    "version": 3
   },
   "file_extension": ".py",
   "mimetype": "text/x-python",
   "name": "python",
   "nbconvert_exporter": "python",
   "pygments_lexer": "ipython3",
   "version": "3.8.8"
  }
 },
 "nbformat": 4,
 "nbformat_minor": 1
}
